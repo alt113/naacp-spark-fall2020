{
 "cells": [
  {
   "cell_type": "code",
   "execution_count": 1,
   "metadata": {},
   "outputs": [
    {
     "name": "stdout",
     "output_type": "stream",
     "text": [
      "\u001b[33mDEPRECATION: Python 2.7 reached the end of its life on January 1st, 2020. Please upgrade your Python as Python 2.7 is no longer maintained. pip 21.0 will drop support for Python 2.7 in January 2021. More details about Python 2 support in pip can be found at https://pip.pypa.io/en/latest/development/release-process/#python-2-support pip 21.0 will remove support for this functionality.\u001b[0m\n",
      "Collecting gensim\n",
      "  Downloading gensim-3.8.3-cp27-cp27m-macosx_10_9_x86_64.whl (24.2 MB)\n",
      "\u001b[K     |████████████████████████████████| 24.2 MB 245 kB/s eta 0:00:01\n",
      "\u001b[?25hRequirement already satisfied: six>=1.5.0 in /usr/local/lib/python2.7/site-packages (from gensim) (1.15.0)\n",
      "Collecting smart-open<1.11,>=1.8.1\n",
      "  Downloading smart_open-1.10.1.tar.gz (92 kB)\n",
      "\u001b[K     |████████████████████████████████| 92 kB 206 kB/s eta 0:00:01\n",
      "\u001b[?25hCollecting numpy<=1.16.1\n",
      "  Downloading numpy-1.16.1-cp27-cp27m-macosx_10_6_intel.macosx_10_9_intel.macosx_10_9_x86_64.macosx_10_10_intel.macosx_10_10_x86_64.whl (13.9 MB)\n",
      "\u001b[K     |████████████████████████████████| 13.9 MB 241 kB/s eta 0:00:01\n",
      "\u001b[?25hRequirement already satisfied: scipy<=1.2.3 in /usr/local/lib/python2.7/site-packages (from gensim) (1.2.3)\n",
      "Requirement already satisfied: requests in /usr/local/lib/python2.7/site-packages (from smart-open<1.11,>=1.8.1->gensim) (2.24.0)\n",
      "Collecting boto3\n",
      "  Downloading boto3-1.16.19-py2.py3-none-any.whl (129 kB)\n",
      "\u001b[K     |████████████████████████████████| 129 kB 477 kB/s eta 0:00:01\n",
      "\u001b[?25hCollecting bz2file\n",
      "  Using cached bz2file-0.98.tar.gz (11 kB)\n",
      "Requirement already satisfied: urllib3!=1.25.0,!=1.25.1,<1.26,>=1.21.1 in /usr/local/lib/python2.7/site-packages (from requests->smart-open<1.11,>=1.8.1->gensim) (1.25.10)\n",
      "Requirement already satisfied: certifi>=2017.4.17 in /usr/local/lib/python2.7/site-packages (from requests->smart-open<1.11,>=1.8.1->gensim) (2020.6.20)\n",
      "Requirement already satisfied: chardet<4,>=3.0.2 in /usr/local/lib/python2.7/site-packages (from requests->smart-open<1.11,>=1.8.1->gensim) (3.0.4)\n",
      "Requirement already satisfied: idna<3,>=2.5 in /usr/local/lib/python2.7/site-packages (from requests->smart-open<1.11,>=1.8.1->gensim) (2.10)\n",
      "Collecting s3transfer<0.4.0,>=0.3.0\n",
      "  Downloading s3transfer-0.3.3-py2.py3-none-any.whl (69 kB)\n",
      "\u001b[K     |████████████████████████████████| 69 kB 2.2 MB/s eta 0:00:01\n",
      "\u001b[?25hCollecting botocore<1.20.0,>=1.19.19\n",
      "  Downloading botocore-1.19.19-py2.py3-none-any.whl (6.8 MB)\n",
      "\u001b[K     |████████████████████████████████| 6.8 MB 140 kB/s eta 0:00:01\n",
      "\u001b[?25hCollecting jmespath<1.0.0,>=0.7.1\n",
      "  Downloading jmespath-0.10.0-py2.py3-none-any.whl (24 kB)\n",
      "Requirement already satisfied: futures<4.0.0,>=2.2.0; python_version == \"2.7\" in /usr/local/lib/python2.7/site-packages (from s3transfer<0.4.0,>=0.3.0->boto3->smart-open<1.11,>=1.8.1->gensim) (3.3.0)\n",
      "Requirement already satisfied: python-dateutil<3.0.0,>=2.1 in /usr/local/lib/python2.7/site-packages (from botocore<1.20.0,>=1.19.19->boto3->smart-open<1.11,>=1.8.1->gensim) (2.8.1)\n",
      "Building wheels for collected packages: smart-open, bz2file\n",
      "  Building wheel for smart-open (setup.py) ... \u001b[?25ldone\n",
      "\u001b[?25h  Created wheel for smart-open: filename=smart_open-1.10.1-py2-none-any.whl size=76878 sha256=ebef308fd34d46460705cf051285cd6bb71c431ef0e35ed340b31cb94e5ec84e\n",
      "  Stored in directory: /Users/apple/Library/Caches/pip/wheels/ce/57/5c/3af8e88d710be469c0a7bc67d89bb35d4b0750ae4eaf743cbe\n",
      "  Building wheel for bz2file (setup.py) ... \u001b[?25ldone\n",
      "\u001b[?25h  Created wheel for bz2file: filename=bz2file-0.98-py2-none-any.whl size=6882 sha256=f301c3fdb885a5a0fdfcb559d81ec284bd2a4c449a69ebeb0fb7cff8619beb29\n",
      "  Stored in directory: /Users/apple/Library/Caches/pip/wheels/70/27/4c/cd6a1b48a925dd8bb3640fe6948d2b7cbf88ef0858d5a84f59\n",
      "Successfully built smart-open bz2file\n",
      "Installing collected packages: jmespath, botocore, s3transfer, boto3, bz2file, smart-open, numpy, gensim\n",
      "  Attempting uninstall: numpy\n",
      "    Found existing installation: numpy 1.16.6\n",
      "    Uninstalling numpy-1.16.6:\n",
      "      Successfully uninstalled numpy-1.16.6\n",
      "Successfully installed boto3-1.16.19 botocore-1.19.19 bz2file-0.98 gensim-3.8.3 jmespath-0.10.0 numpy-1.16.1 s3transfer-0.3.3 smart-open-1.10.1\n",
      "\u001b[33mWARNING: You are using pip version 20.2.3; however, version 20.2.4 is available.\n",
      "You should consider upgrading via the '/usr/local/opt/python@2/bin/python2.7 -m pip install --upgrade pip' command.\u001b[0m\n"
     ]
    }
   ],
   "source": [
    "import sys\n",
    "!{sys.executable} -m pip install gensim"
   ]
  },
  {
   "cell_type": "code",
   "execution_count": 8,
   "metadata": {},
   "outputs": [
    {
     "name": "stdout",
     "output_type": "stream",
     "text": [
      "\u001b[33mDEPRECATION: Python 2.7 reached the end of its life on January 1st, 2020. Please upgrade your Python as Python 2.7 is no longer maintained. pip 21.0 will drop support for Python 2.7 in January 2021. More details about Python 2 support in pip can be found at https://pip.pypa.io/en/latest/development/release-process/#python-2-support pip 21.0 will remove support for this functionality.\u001b[0m\n",
      "Collecting sklearn\n",
      "  Using cached sklearn-0.0.tar.gz (1.1 kB)\n",
      "Requirement already satisfied: scikit-learn in /usr/local/lib/python2.7/site-packages (from sklearn) (0.20.4)\n",
      "Requirement already satisfied: numpy>=1.8.2 in /usr/local/lib/python2.7/site-packages (from scikit-learn->sklearn) (1.16.1)\n",
      "Requirement already satisfied: scipy>=0.13.3 in /usr/local/lib/python2.7/site-packages (from scikit-learn->sklearn) (1.2.3)\n",
      "Building wheels for collected packages: sklearn\n",
      "  Building wheel for sklearn (setup.py) ... \u001b[?25ldone\n",
      "\u001b[?25h  Created wheel for sklearn: filename=sklearn-0.0-py2.py3-none-any.whl size=1315 sha256=497f4a3dee755d87411b72da85aa05a978708eeed6de7e2be197f7ff4e81fb70\n",
      "  Stored in directory: /Users/apple/Library/Caches/pip/wheels/92/41/c1/46aa0ff43ae6274c41ffea0abc81426980f263d53d30fbc7b9\n",
      "Successfully built sklearn\n",
      "Installing collected packages: sklearn\n",
      "Successfully installed sklearn-0.0\n",
      "\u001b[33mWARNING: You are using pip version 20.2.3; however, version 20.2.4 is available.\n",
      "You should consider upgrading via the '/usr/local/opt/python@2/bin/python2.7 -m pip install --upgrade pip' command.\u001b[0m\n"
     ]
    }
   ],
   "source": [
    "!{sys.executable} -m pip install sklearn"
   ]
  },
  {
   "cell_type": "code",
   "execution_count": 25,
   "metadata": {},
   "outputs": [
    {
     "name": "stdout",
     "output_type": "stream",
     "text": [
      "\u001b[33mDEPRECATION: Python 2.7 reached the end of its life on January 1st, 2020. Please upgrade your Python as Python 2.7 is no longer maintained. pip 21.0 will drop support for Python 2.7 in January 2021. More details about Python 2 support in pip can be found at https://pip.pypa.io/en/latest/development/release-process/#python-2-support pip 21.0 will remove support for this functionality.\u001b[0m\n",
      "Collecting annoy\n",
      "  Downloading annoy-1.17.0.tar.gz (646 kB)\n",
      "\u001b[K     |████████████████████████████████| 646 kB 193 kB/s eta 0:00:01\n",
      "\u001b[?25hBuilding wheels for collected packages: annoy\n",
      "  Building wheel for annoy (setup.py) ... \u001b[?25ldone\n",
      "\u001b[?25h  Created wheel for annoy: filename=annoy-1.17.0-cp27-cp27m-macosx_10_15_x86_64.whl size=69961 sha256=08242e1fee039dbfcbd858ddfe44f02b48a12d7cb10419d80adbb58b2342e556\n",
      "  Stored in directory: /Users/apple/Library/Caches/pip/wheels/8a/52/5d/2c304e7e1ff269b7a5688a602e7088af625eda7ea1eb2d4922\n",
      "Successfully built annoy\n",
      "Installing collected packages: annoy\n",
      "Successfully installed annoy-1.17.0\n",
      "\u001b[33mWARNING: You are using pip version 20.2.3; however, version 20.2.4 is available.\n",
      "You should consider upgrading via the '/usr/local/opt/python@2/bin/python2.7 -m pip install --upgrade pip' command.\u001b[0m\n"
     ]
    }
   ],
   "source": [
    "!{sys.executable} -m pip install annoy"
   ]
  },
  {
   "cell_type": "code",
   "execution_count": 7,
   "metadata": {},
   "outputs": [],
   "source": [
    "# import all dependencies\n",
    "from gensim.models.doc2vec import Doc2Vec, TaggedDocument"
   ]
  },
  {
   "cell_type": "code",
   "execution_count": 9,
   "metadata": {},
   "outputs": [],
   "source": [
    "from sklearn import datasets"
   ]
  },
  {
   "cell_type": "code",
   "execution_count": 20,
   "metadata": {},
   "outputs": [],
   "source": [
    "categories = [\"talk.politics.guns\", \"sci.med\"]\n",
    "cat_dict = {} # Contains raw training data organized by category\n",
    "for cat in categories:\n",
    "    cat_dict[cat] = datasets.fetch_20newsgroups(subset='train', remove=('headers', 'footers', 'quotes'), categories=[cat]).data"
   ]
  },
  {
   "cell_type": "code",
   "execution_count": 22,
   "metadata": {},
   "outputs": [],
   "source": [
    "import gensim\n",
    "\n",
    "def tokenize(text, stopwords, max_len = 20):\n",
    "    return [token for token in gensim.utils.simple_preprocess(text, max_len=max_len) if token not in stopwords]\n",
    "\n",
    "cat_dict_tagged_train = {} # Contains clean tagged training data organized by category. To be used for the training corpus.\n",
    "cat_dict_test_clean = {} # Contains clean un-tagged training data organized by category.\n",
    "\n",
    "offset = 0 # Used for managing IDs of tagged documents\n",
    "for k, v in cat_dict.items():\n",
    "    cat_dict_tagged_train[k] = [gensim.models.doc2vec.TaggedDocument(tokenize(text, [], max_len=200), [i+offset]) for i, text in enumerate(v)]\n",
    "    offset += len(v)\n",
    "    \n",
    "# Eventually contains final versions of the training data to actually train the model\n",
    "train_corpus = [taggeddoc for taggeddoc_list in list(cat_dict_tagged_train.values()) for taggeddoc in taggeddoc_list]"
   ]
  },
  {
   "cell_type": "code",
   "execution_count": 23,
   "metadata": {},
   "outputs": [],
   "source": [
    "model = gensim.models.doc2vec.Doc2Vec(vector_size=30, min_count=2, epochs=40, window=2)\n",
    "model.build_vocab(train_corpus)\n",
    "model.train(train_corpus, total_examples=model.corpus_count, epochs=model.epochs)"
   ]
  },
  {
   "cell_type": "code",
   "execution_count": 27,
   "metadata": {},
   "outputs": [],
   "source": [
    "from gensim.similarities.index import AnnoyIndexer"
   ]
  },
  {
   "cell_type": "code",
   "execution_count": 28,
   "metadata": {},
   "outputs": [
    {
     "name": "stderr",
     "output_type": "stream",
     "text": [
      "/usr/local/lib/python2.7/site-packages/gensim/similarities/index.py:198: FutureWarning: The default argument for metric will be removed in future version of Annoy. Please pass metric='angular' explicitly.\n",
      "  index = AnnoyIndex(num_features)\n"
     ]
    }
   ],
   "source": [
    "# 100 trees are being used in this example\n",
    "annoy_index = AnnoyIndexer(model, 100)"
   ]
  },
  {
   "cell_type": "code",
   "execution_count": 29,
   "metadata": {},
   "outputs": [],
   "source": [
    "vector = model.infer_vector(['gun', 'violence'])"
   ]
  },
  {
   "cell_type": "code",
   "execution_count": 30,
   "metadata": {},
   "outputs": [
    {
     "name": "stdout",
     "output_type": "stream",
     "text": [
      "[ 0.41937435  0.17563553 -0.12256587  0.10460788 -0.02565083  0.09429242\n",
      " -0.02002553 -0.05139732 -0.1040236   0.14222175 -0.25814718 -0.17025264\n",
      " -0.10804966 -0.34655386 -0.10933165  0.12939467 -0.28263333 -0.20853165\n",
      " -0.24687481  0.03203865  0.15677051  0.03355862  0.40046856  0.0894082\n",
      "  0.09354968  0.09165044 -0.28075868 -0.36651352 -0.16702029 -0.26822072]\n"
     ]
    }
   ],
   "source": [
    "print(vector)"
   ]
  },
  {
   "cell_type": "code",
   "execution_count": 34,
   "metadata": {},
   "outputs": [
    {
     "name": "stdout",
     "output_type": "stream",
     "text": [
      "Approximate Neighbors\n",
      "(761, 0.7355824410915375)\n",
      "(460, 0.7161076068878174)\n",
      "(747, 0.71528160572052)\n",
      "(615, 0.7072787880897522)\n",
      "(781, 0.7049023509025574)\n",
      "(423, 0.7028268873691559)\n",
      "(601, 0.7003947496414185)\n",
      "(1090, 0.6945617198944092)\n",
      "(818, 0.6910263299942017)\n",
      "(506, 0.6896374821662903)\n",
      "(299, 0.6889603734016418)\n"
     ]
    }
   ],
   "source": [
    "# The instance of AnnoyIndexer we just created is passed\n",
    "approximate_neighbors = model.wv.most_similar([vector], topn=11, indexer=annoy_index)\n",
    "\n",
    "# Neatly print the approximate_neighbors and their corresponding cosine similarity values\n",
    "print(\"Approximate Neighbors\")\n",
    "for neighbor in approximate_neighbors:\n",
    "    print(neighbor)"
   ]
  },
  {
   "cell_type": "code",
   "execution_count": 47,
   "metadata": {},
   "outputs": [
    {
     "data": {
      "text/plain": [
       "array([ 0.8675403 ,  0.38218212, -0.21814214, -0.30081663,  0.06806248,\n",
       "        0.01665521, -0.29620945, -0.11488877, -0.7557499 ,  0.19308962,\n",
       "       -0.5282435 , -0.17090972, -0.38533473, -0.9122857 , -0.24606001,\n",
       "       -0.11321735, -0.09216058, -0.37829253, -0.4843047 ,  0.12021238,\n",
       "        0.3243565 ,  0.28818458,  0.9300991 ,  0.41290134,  0.4391494 ,\n",
       "       -0.2293036 , -0.6845831 , -0.6745128 , -0.40212426, -0.26293546],\n",
       "      dtype=float32)"
      ]
     },
     "execution_count": 47,
     "metadata": {},
     "output_type": "execute_result"
    }
   ],
   "source": [
    "model.docvecs[761]"
   ]
  },
  {
   "cell_type": "code",
   "execution_count": 65,
   "metadata": {},
   "outputs": [
    {
     "name": "stdout",
     "output_type": "stream",
     "text": [
      "TaggedDocument([u'even', u'if', u'they', u'outlawed', u'private', u'posession', u'of', u'firearms', u'there', u'would', u'be', u'no', u'moral', u'force', u'behind', u'that', u'law', u'imagine', u'compliance', u'would', u'be', u'low'], [761])\n"
     ]
    }
   ],
   "source": [
    "# cat_dict_tagged_train['talk.politics.guns'][0].tags\n",
    "for elem in cat_dict_tagged_train['talk.politics.guns']:\n",
    "    if elem.tags[0] == 761:\n",
    "        print(elem)"
   ]
  }
 ],
 "metadata": {
  "kernelspec": {
   "display_name": "Python 3",
   "language": "python",
   "name": "python3"
  },
  "language_info": {
   "codemirror_mode": {
    "name": "ipython",
    "version": 2
   },
   "file_extension": ".py",
   "mimetype": "text/x-python",
   "name": "python",
   "nbconvert_exporter": "python",
   "pygments_lexer": "ipython2",
   "version": "2.7.17"
  }
 },
 "nbformat": 4,
 "nbformat_minor": 2
}
