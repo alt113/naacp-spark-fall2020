{
 "cells": [
  {
   "cell_type": "code",
   "execution_count": 1,
   "metadata": {},
   "outputs": [
    {
     "name": "stdout",
     "output_type": "stream",
     "text": [
      "\u001b[33mDEPRECATION: Python 2.7 reached the end of its life on January 1st, 2020. Please upgrade your Python as Python 2.7 is no longer maintained. pip 21.0 will drop support for Python 2.7 in January 2021. More details about Python 2 support in pip can be found at https://pip.pypa.io/en/latest/development/release-process/#python-2-support pip 21.0 will remove support for this functionality.\u001b[0m\n",
      "Requirement already satisfied: gensim in /usr/local/lib/python2.7/site-packages (3.8.3)\n",
      "Requirement already satisfied: six>=1.5.0 in /usr/local/lib/python2.7/site-packages (from gensim) (1.15.0)\n",
      "Requirement already satisfied: smart-open<1.11,>=1.8.1 in /usr/local/lib/python2.7/site-packages (from gensim) (1.10.1)\n",
      "Requirement already satisfied: numpy<=1.16.1 in /usr/local/lib/python2.7/site-packages (from gensim) (1.16.1)\n",
      "Requirement already satisfied: scipy<=1.2.3 in /usr/local/lib/python2.7/site-packages (from gensim) (1.2.3)\n",
      "Requirement already satisfied: requests in /usr/local/lib/python2.7/site-packages (from smart-open<1.11,>=1.8.1->gensim) (2.24.0)\n",
      "Requirement already satisfied: boto3 in /usr/local/lib/python2.7/site-packages (from smart-open<1.11,>=1.8.1->gensim) (1.16.19)\n",
      "Requirement already satisfied: bz2file in /usr/local/lib/python2.7/site-packages (from smart-open<1.11,>=1.8.1->gensim) (0.98)\n",
      "Requirement already satisfied: urllib3!=1.25.0,!=1.25.1,<1.26,>=1.21.1 in /usr/local/lib/python2.7/site-packages (from requests->smart-open<1.11,>=1.8.1->gensim) (1.25.10)\n",
      "Requirement already satisfied: certifi>=2017.4.17 in /usr/local/lib/python2.7/site-packages (from requests->smart-open<1.11,>=1.8.1->gensim) (2020.6.20)\n",
      "Requirement already satisfied: chardet<4,>=3.0.2 in /usr/local/lib/python2.7/site-packages (from requests->smart-open<1.11,>=1.8.1->gensim) (3.0.4)\n",
      "Requirement already satisfied: idna<3,>=2.5 in /usr/local/lib/python2.7/site-packages (from requests->smart-open<1.11,>=1.8.1->gensim) (2.10)\n",
      "Requirement already satisfied: botocore<1.20.0,>=1.19.19 in /usr/local/lib/python2.7/site-packages (from boto3->smart-open<1.11,>=1.8.1->gensim) (1.19.19)\n",
      "Requirement already satisfied: jmespath<1.0.0,>=0.7.1 in /usr/local/lib/python2.7/site-packages (from boto3->smart-open<1.11,>=1.8.1->gensim) (0.10.0)\n",
      "Requirement already satisfied: s3transfer<0.4.0,>=0.3.0 in /usr/local/lib/python2.7/site-packages (from boto3->smart-open<1.11,>=1.8.1->gensim) (0.3.3)\n",
      "Requirement already satisfied: python-dateutil<3.0.0,>=2.1 in /usr/local/lib/python2.7/site-packages (from botocore<1.20.0,>=1.19.19->boto3->smart-open<1.11,>=1.8.1->gensim) (2.8.1)\n",
      "Requirement already satisfied: futures<4.0.0,>=2.2.0; python_version == \"2.7\" in /usr/local/lib/python2.7/site-packages (from s3transfer<0.4.0,>=0.3.0->boto3->smart-open<1.11,>=1.8.1->gensim) (3.3.0)\n",
      "\u001b[33mWARNING: You are using pip version 20.2.3; however, version 20.2.4 is available.\n",
      "You should consider upgrading via the '/usr/local/opt/python@2/bin/python2.7 -m pip install --upgrade pip' command.\u001b[0m\n"
     ]
    }
   ],
   "source": [
    "import sys\n",
    "!{sys.executable} -m pip install gensim"
   ]
  },
  {
   "cell_type": "code",
   "execution_count": 2,
   "metadata": {},
   "outputs": [
    {
     "name": "stdout",
     "output_type": "stream",
     "text": [
      "\u001b[33mDEPRECATION: Python 2.7 reached the end of its life on January 1st, 2020. Please upgrade your Python as Python 2.7 is no longer maintained. pip 21.0 will drop support for Python 2.7 in January 2021. More details about Python 2 support in pip can be found at https://pip.pypa.io/en/latest/development/release-process/#python-2-support pip 21.0 will remove support for this functionality.\u001b[0m\n",
      "Requirement already satisfied: sklearn in /usr/local/lib/python2.7/site-packages (0.0)\n",
      "Requirement already satisfied: scikit-learn in /usr/local/lib/python2.7/site-packages (from sklearn) (0.20.4)\n",
      "Requirement already satisfied: numpy>=1.8.2 in /usr/local/lib/python2.7/site-packages (from scikit-learn->sklearn) (1.16.1)\n",
      "Requirement already satisfied: scipy>=0.13.3 in /usr/local/lib/python2.7/site-packages (from scikit-learn->sklearn) (1.2.3)\n",
      "\u001b[33mWARNING: You are using pip version 20.2.3; however, version 20.2.4 is available.\n",
      "You should consider upgrading via the '/usr/local/opt/python@2/bin/python2.7 -m pip install --upgrade pip' command.\u001b[0m\n"
     ]
    }
   ],
   "source": [
    "!{sys.executable} -m pip install sklearn"
   ]
  },
  {
   "cell_type": "code",
   "execution_count": 3,
   "metadata": {},
   "outputs": [
    {
     "name": "stdout",
     "output_type": "stream",
     "text": [
      "\u001b[33mDEPRECATION: Python 2.7 reached the end of its life on January 1st, 2020. Please upgrade your Python as Python 2.7 is no longer maintained. pip 21.0 will drop support for Python 2.7 in January 2021. More details about Python 2 support in pip can be found at https://pip.pypa.io/en/latest/development/release-process/#python-2-support pip 21.0 will remove support for this functionality.\u001b[0m\n",
      "Requirement already satisfied: annoy in /usr/local/lib/python2.7/site-packages (1.17.0)\n",
      "\u001b[33mWARNING: You are using pip version 20.2.3; however, version 20.2.4 is available.\n",
      "You should consider upgrading via the '/usr/local/opt/python@2/bin/python2.7 -m pip install --upgrade pip' command.\u001b[0m\n"
     ]
    }
   ],
   "source": [
    "!{sys.executable} -m pip install annoy"
   ]
  },
  {
   "cell_type": "code",
   "execution_count": 4,
   "metadata": {},
   "outputs": [],
   "source": [
    "# import all dependencies\n",
    "from gensim.models.doc2vec import Doc2Vec, TaggedDocument"
   ]
  },
  {
   "cell_type": "code",
   "execution_count": 5,
   "metadata": {},
   "outputs": [],
   "source": [
    "import pandas as pd"
   ]
  },
  {
   "cell_type": "code",
   "execution_count": 6,
   "metadata": {},
   "outputs": [
    {
     "data": {
      "text/plain": [
       "'/Users/apple/Desktop/Boston U/classes/cs 506/github/repos/naacp-spark-fall2020/notebooks'"
      ]
     },
     "execution_count": 6,
     "metadata": {},
     "output_type": "execute_result"
    }
   ],
   "source": [
    "import os\n",
    "\n",
    "os.getcwd()"
   ]
  },
  {
   "cell_type": "code",
   "execution_count": 7,
   "metadata": {},
   "outputs": [
    {
     "data": {
      "text/html": [
       "<div>\n",
       "<style scoped>\n",
       "    .dataframe tbody tr th:only-of-type {\n",
       "        vertical-align: middle;\n",
       "    }\n",
       "\n",
       "    .dataframe tbody tr th {\n",
       "        vertical-align: top;\n",
       "    }\n",
       "\n",
       "    .dataframe thead th {\n",
       "        text-align: right;\n",
       "    }\n",
       "</style>\n",
       "<table border=\"1\" class=\"dataframe\">\n",
       "  <thead>\n",
       "    <tr style=\"text-align: right;\">\n",
       "      <th></th>\n",
       "      <th>Unnamed: 0</th>\n",
       "      <th>Article Headline</th>\n",
       "      <th>Article Content</th>\n",
       "    </tr>\n",
       "  </thead>\n",
       "  <tbody>\n",
       "    <tr>\n",
       "      <th>0</th>\n",
       "      <td>0</td>\n",
       "      <td>[Three Thresher Sharks Found Stranded on Cape ...</td>\n",
       "      <td>[A shark was discovered on a Cape Cod beach Th...</td>\n",
       "    </tr>\n",
       "    <tr>\n",
       "      <th>1</th>\n",
       "      <td>1</td>\n",
       "      <td>[What’s On Tap For The GOP 2018 Legislative Ag...</td>\n",
       "      <td>[President Donald Trump and the Republican maj...</td>\n",
       "    </tr>\n",
       "    <tr>\n",
       "      <th>2</th>\n",
       "      <td>2</td>\n",
       "      <td>[What Do The New Tax Rules Mean For You?]</td>\n",
       "      <td>[Barry says his firm has received comments and...</td>\n",
       "    </tr>\n",
       "    <tr>\n",
       "      <th>3</th>\n",
       "      <td>3</td>\n",
       "      <td>[The Best Curiosity Desk Stories Of 2017]</td>\n",
       "      <td>[This year, the Curiosity Desk uncovered every...</td>\n",
       "    </tr>\n",
       "    <tr>\n",
       "      <th>4</th>\n",
       "      <td>4</td>\n",
       "      <td>[Year In Review: President Trump v. Media; The...</td>\n",
       "      <td>[Year in Review: President Trump vs. The Media...</td>\n",
       "    </tr>\n",
       "  </tbody>\n",
       "</table>\n",
       "</div>"
      ],
      "text/plain": [
       "   Unnamed: 0                                   Article Headline  \\\n",
       "0           0  [Three Thresher Sharks Found Stranded on Cape ...   \n",
       "1           1  [What’s On Tap For The GOP 2018 Legislative Ag...   \n",
       "2           2          [What Do The New Tax Rules Mean For You?]   \n",
       "3           3          [The Best Curiosity Desk Stories Of 2017]   \n",
       "4           4  [Year In Review: President Trump v. Media; The...   \n",
       "\n",
       "                                     Article Content  \n",
       "0  [A shark was discovered on a Cape Cod beach Th...  \n",
       "1  [President Donald Trump and the Republican maj...  \n",
       "2  [Barry says his firm has received comments and...  \n",
       "3  [This year, the Curiosity Desk uncovered every...  \n",
       "4  [Year in Review: President Trump vs. The Media...  "
      ]
     },
     "execution_count": 7,
     "metadata": {},
     "output_type": "execute_result"
    }
   ],
   "source": [
    "df_wgbh_2017 = pd.read_csv(os.getcwd() + '/wgbh_data_2017 - wgbh_data_2017.csv')\n",
    "\n",
    "df_wgbh_2017.head()"
   ]
  },
  {
   "cell_type": "code",
   "execution_count": 8,
   "metadata": {},
   "outputs": [
    {
     "data": {
      "text/html": [
       "<div>\n",
       "<style scoped>\n",
       "    .dataframe tbody tr th:only-of-type {\n",
       "        vertical-align: middle;\n",
       "    }\n",
       "\n",
       "    .dataframe tbody tr th {\n",
       "        vertical-align: top;\n",
       "    }\n",
       "\n",
       "    .dataframe thead th {\n",
       "        text-align: right;\n",
       "    }\n",
       "</style>\n",
       "<table border=\"1\" class=\"dataframe\">\n",
       "  <thead>\n",
       "    <tr style=\"text-align: right;\">\n",
       "      <th></th>\n",
       "      <th>Article Content</th>\n",
       "    </tr>\n",
       "  </thead>\n",
       "  <tbody>\n",
       "    <tr>\n",
       "      <th>0</th>\n",
       "      <td>[A shark was discovered on a Cape Cod beach Th...</td>\n",
       "    </tr>\n",
       "    <tr>\n",
       "      <th>1</th>\n",
       "      <td>[President Donald Trump and the Republican maj...</td>\n",
       "    </tr>\n",
       "    <tr>\n",
       "      <th>2</th>\n",
       "      <td>[Barry says his firm has received comments and...</td>\n",
       "    </tr>\n",
       "    <tr>\n",
       "      <th>3</th>\n",
       "      <td>[This year, the Curiosity Desk uncovered every...</td>\n",
       "    </tr>\n",
       "    <tr>\n",
       "      <th>4</th>\n",
       "      <td>[Year in Review: President Trump vs. The Media...</td>\n",
       "    </tr>\n",
       "  </tbody>\n",
       "</table>\n",
       "</div>"
      ],
      "text/plain": [
       "                                     Article Content\n",
       "0  [A shark was discovered on a Cape Cod beach Th...\n",
       "1  [President Donald Trump and the Republican maj...\n",
       "2  [Barry says his firm has received comments and...\n",
       "3  [This year, the Curiosity Desk uncovered every...\n",
       "4  [Year in Review: President Trump vs. The Media..."
      ]
     },
     "execution_count": 8,
     "metadata": {},
     "output_type": "execute_result"
    }
   ],
   "source": [
    "del df_wgbh_2017['Unnamed: 0']\n",
    "del df_wgbh_2017['Article Headline']\n",
    "\n",
    "df_wgbh_2017.head()"
   ]
  },
  {
   "cell_type": "code",
   "execution_count": 9,
   "metadata": {},
   "outputs": [
    {
     "data": {
      "text/plain": [
       "'[A shark was discovered on a Cape Cod beach Thursday,\\xc2\\xa0making it the third this week that may have fallen victim to bitter cold temperatures., Three thresher sharks, which measure about 14 feet long,\\xc2\\xa0have washed up on beaches in Orleans and Wellfleet since Christmas., \\xe2\\x80\\x9cWhat may have happened in this case is a sudden drop in temperature associated with this cold snap that we\\xe2\\x80\\x99re all experiencing right now,\" said\\xc2\\xa0Greg Skomal of the Massachusetts Division of Marine Fisheries. \"And that\\xe2\\x80\\x99s probably caught these sharks off guard, and they\\xe2\\x80\\x99re trying to move rapidly south. What they\\xe2\\x80\\x99re doing is bumping into Cape Cod and getting trapped in Cape Cod Bay, and that\\xe2\\x80\\x99s causing these issues.\\xe2\\x80\\x9d, The three sharks died from being stranded.\\xc2\\xa0Skomal emphasized the strandings appear to be a natural event, and there\\'s no indication of what he called \"foul play.\" He said it\\'s common for one thresher shark to strand on the Cape in a season, but three in one week is unusual., , \"We want the folks out there who are walking the beaches \\xe2\\x80\\x94 who dare walk the beaches in this weather \\xe2\\x80\\x94\\xc2\\xa0if they see these things, please report them to the Division of Marine Fisheries or the New England Aquarium,\" he added., The Atlantic Shark Conservancy and state and federal officials\\xc2\\xa0collected organ and tissues samples to help research the sharks and their deaths. The conservancy is\\xc2\\xa0raising money for equipment to help them respond to shark strandings., The geography of Cape Cod also traps hundreds of sea turtles each winter. So far, more than 260 have been rescued and brought to the New England Aquarium\\xe2\\x80\\x99s sea turtle hospital.\\xc2\\xa0, Craig produces sound\\xc2\\xad-rich features and breaking news coverage for WGBH News. ]'"
      ]
     },
     "execution_count": 9,
     "metadata": {},
     "output_type": "execute_result"
    }
   ],
   "source": [
    "df_wgbh_2017.iloc[0, 0]"
   ]
  },
  {
   "cell_type": "code",
   "execution_count": 10,
   "metadata": {},
   "outputs": [],
   "source": [
    "spec_chars = [\"!\",'\"',\"#\",\"%\",\"&\",\"'\",\"(\",\")\",\n",
    "              \"*\",\"+\",\",\",\"-\",\".\",\"/\",\":\",\";\",\"<\",\n",
    "              \"=\",\">\",\"?\",\"@\",\"[\",\"\\\\\",\"]\",\"^\",\"_\",\n",
    "              \"`\",\"{\",\"|\",\"}\",\"~\",\"–\", \"\\xc2\", \"\\xa0\",\n",
    "             \"\\x80\", \"\\x9c\", \"\\x99\", \"\\x94\", \"\\xad\", \"\\xe2\", \"\\x9d\"]\n",
    "\n",
    "for char in spec_chars:\n",
    "    df_wgbh_2017['Article Content'] = df_wgbh_2017['Article Content'].str.replace(char, ' ')"
   ]
  },
  {
   "cell_type": "code",
   "execution_count": 11,
   "metadata": {},
   "outputs": [
    {
     "data": {
      "text/plain": [
       "' A shark was discovered on a Cape Cod beach Thursday   making it the third this week that may have fallen victim to bitter cold temperatures   Three thresher sharks  which measure about 14 feet long   have washed up on beaches in Orleans and Wellfleet since Christmas      What may have happened in this case is a sudden drop in temperature associated with this cold snap that we   re all experiencing right now   said  Greg Skomal of the Massachusetts Division of Marine Fisheries   And that   s probably caught these sharks off guard  and they   re trying to move rapidly south  What they   re doing is bumping into Cape Cod and getting trapped in Cape Cod Bay  and that   s causing these issues      The three sharks died from being stranded   Skomal emphasized the strandings appear to be a natural event  and there s no indication of what he called  foul play   He said it s common for one thresher shark to strand on the Cape in a season  but three in one week is unusual      We want the folks out there who are walking the beaches     who dare walk the beaches in this weather      if they see these things  please report them to the Division of Marine Fisheries or the New England Aquarium   he added   The Atlantic Shark Conservancy and state and federal officials  collected organ and tissues samples to help research the sharks and their deaths  The conservancy is  raising money for equipment to help them respond to shark strandings   The geography of Cape Cod also traps hundreds of sea turtles each winter  So far  more than 260 have been rescued and brought to the New England Aquarium   s sea turtle hospital     Craig produces sound   rich features and breaking news coverage for WGBH News   '"
      ]
     },
     "execution_count": 11,
     "metadata": {},
     "output_type": "execute_result"
    }
   ],
   "source": [
    "df_wgbh_2017.iloc[0,0]"
   ]
  },
  {
   "cell_type": "code",
   "execution_count": 12,
   "metadata": {},
   "outputs": [],
   "source": [
    "import gensim\n",
    "\n",
    "def tokenize(text, stopwords, max_len = 20):\n",
    "    return [token for token in gensim.utils.simple_preprocess(text, max_len=max_len) if token not in stopwords]"
   ]
  },
  {
   "cell_type": "code",
   "execution_count": 13,
   "metadata": {},
   "outputs": [],
   "source": [
    "list_of_articles = df_wgbh_2017.values.tolist()\n",
    "\n",
    "flat_list_of_articles = [item for sublist in list_of_articles for item in sublist]\n",
    "\n",
    "tagged_docs = [gensim.models.doc2vec.TaggedDocument(tokenize(text, [], max_len=200), [i]) for i, text in enumerate(flat_list_of_articles)]"
   ]
  },
  {
   "cell_type": "code",
   "execution_count": 89,
   "metadata": {},
   "outputs": [
    {
     "data": {
      "text/plain": [
       "TaggedDocument(words=[u'shark', u'was', u'discovered', u'on', u'cape', u'cod', u'beach', u'thursday', u'making', u'it', u'the', u'third', u'this', u'week', u'that', u'may', u'have', u'fallen', u'victim', u'to', u'bitter', u'cold', u'temperatures', u'three', u'thresher', u'sharks', u'which', u'measure', u'about', u'feet', u'long', u'have', u'washed', u'up', u'on', u'beaches', u'in', u'orleans', u'and', u'wellfleet', u'since', u'christmas', u'what', u'may', u'have', u'happened', u'in', u'this', u'case', u'is', u'sudden', u'drop', u'in', u'temperature', u'associated', u'with', u'this', u'cold', u'snap', u'that', u'we', u're', u'all', u'experiencing', u'right', u'now', u'said', u'greg', u'skomal', u'of', u'the', u'massachusetts', u'division', u'of', u'marine', u'fisheries', u'and', u'that', u'probably', u'caught', u'these', u'sharks', u'off', u'guard', u'and', u'they', u're', u'trying', u'to', u'move', u'rapidly', u'south', u'what', u'they', u're', u'doing', u'is', u'bumping', u'into', u'cape', u'cod', u'and', u'getting', u'trapped', u'in', u'cape', u'cod', u'bay', u'and', u'that', u'causing', u'these', u'issues', u'the', u'three', u'sharks', u'died', u'from', u'being', u'stranded', u'skomal', u'emphasized', u'the', u'strandings', u'appear', u'to', u'be', u'natural', u'event', u'and', u'there', u'no', u'indication', u'of', u'what', u'he', u'called', u'foul', u'play', u'he', u'said', u'it', u'common', u'for', u'one', u'thresher', u'shark', u'to', u'strand', u'on', u'the', u'cape', u'in', u'season', u'but', u'three', u'in', u'one', u'week', u'is', u'unusual', u'we', u'want', u'the', u'folks', u'out', u'there', u'who', u'are', u'walking', u'the', u'beaches', u'who', u'dare', u'walk', u'the', u'beaches', u'in', u'this', u'weather', u'if', u'they', u'see', u'these', u'things', u'please', u'report', u'them', u'to', u'the', u'division', u'of', u'marine', u'fisheries', u'or', u'the', u'new', u'england', u'aquarium', u'he', u'added', u'the', u'atlantic', u'shark', u'conservancy', u'and', u'state', u'and', u'federal', u'officials', u'collected', u'organ', u'and', u'tissues', u'samples', u'to', u'help', u'research', u'the', u'sharks', u'and', u'their', u'deaths', u'the', u'conservancy', u'is', u'raising', u'money', u'for', u'equipment', u'to', u'help', u'them', u'respond', u'to', u'shark', u'strandings', u'the', u'geography', u'of', u'cape', u'cod', u'also', u'traps', u'hundreds', u'of', u'sea', u'turtles', u'each', u'winter', u'so', u'far', u'more', u'than', u'have', u'been', u'rescued', u'and', u'brought', u'to', u'the', u'new', u'england', u'aquarium', u'sea', u'turtle', u'hospital', u'craig', u'produces', u'sound', u'rich', u'features', u'and', u'breaking', u'news', u'coverage', u'for', u'wgbh', u'news'], tags=[0])"
      ]
     },
     "execution_count": 89,
     "metadata": {},
     "output_type": "execute_result"
    }
   ],
   "source": [
    "tagged_docs[0]"
   ]
  },
  {
   "cell_type": "code",
   "execution_count": 156,
   "metadata": {},
   "outputs": [],
   "source": [
    "model = gensim.models.doc2vec.Doc2Vec(vector_size=30, epochs=40, window=2, dm=1)\n",
    "model.build_vocab(tagged_docs)\n",
    "model.train(tagged_docs, total_examples=model.corpus_count, epochs=model.epochs)"
   ]
  },
  {
   "cell_type": "code",
   "execution_count": 157,
   "metadata": {},
   "outputs": [],
   "source": [
    "from gensim.similarities.index import AnnoyIndexer"
   ]
  },
  {
   "cell_type": "code",
   "execution_count": 158,
   "metadata": {},
   "outputs": [],
   "source": [
    "annoy_index = AnnoyIndexer(model, 100)"
   ]
  },
  {
   "cell_type": "code",
   "execution_count": 202,
   "metadata": {},
   "outputs": [
    {
     "name": "stdout",
     "output_type": "stream",
     "text": [
      "[ 0.78160834  0.05791026  0.29800808  1.0710113   0.81788504 -0.6256691\n",
      " -0.40538526 -0.24382599  0.23471008  0.647086    0.49556392 -0.8659458\n",
      "  0.42621955  0.15185423  0.06228873  0.8900249  -0.3168715  -0.1489806\n",
      "  0.37448904  0.14428891  0.6938182  -0.5793119   0.34057385 -0.3666075\n",
      "  0.6229786  -0.34981817  0.04107343  0.03620084 -0.02756336 -0.16382174]\n"
     ]
    }
   ],
   "source": [
    "vector = model.infer_vector(['shark', 'was', 'found', 'on', 'beach', 'cold', 'temperature'])\n",
    "\n",
    "print(vector)"
   ]
  },
  {
   "cell_type": "code",
   "execution_count": 199,
   "metadata": {},
   "outputs": [
    {
     "data": {
      "text/plain": [
       "array([ 2.216741  , -0.6245544 , -0.94084835,  0.77469105,  0.84180975,\n",
       "       -0.2259122 , -1.400351  , -0.0337314 , -0.44166148,  1.157059  ,\n",
       "        0.59713507, -2.8497248 ,  0.4655805 ,  0.37611622, -0.7267098 ,\n",
       "        1.8714697 , -0.64835787, -0.28011218,  1.601271  ,  1.0663117 ,\n",
       "        0.6932914 , -0.22437823,  1.0074441 , -0.93997324,  1.0458304 ,\n",
       "       -0.12876551, -1.9168022 ,  0.7171953 , -1.7147083 , -1.2050235 ],\n",
       "      dtype=float32)"
      ]
     },
     "execution_count": 199,
     "metadata": {},
     "output_type": "execute_result"
    }
   ],
   "source": [
    "model.docvecs[0]"
   ]
  },
  {
   "cell_type": "code",
   "execution_count": 169,
   "metadata": {},
   "outputs": [
    {
     "name": "stdout",
     "output_type": "stream",
     "text": [
      "Approximate Neighbors\n",
      "(451, 0.4528612494468689)\n",
      "(7, 0.44421660900115967)\n",
      "(217, 0.43256276845932007)\n",
      "(1578, 0.43204665184020996)\n",
      "(685, 0.4319506883621216)\n",
      "(117, 0.42614108324050903)\n",
      "(802, 0.42249244451522827)\n",
      "(26, 0.4133557677268982)\n",
      "(282, 0.4127662181854248)\n",
      "(1065, 0.4096915125846863)\n",
      "(1175, 0.4067367911338806)\n"
     ]
    }
   ],
   "source": [
    "# The instance of AnnoyIndexer we just created is passed\n",
    "approximate_neighbors = model.wv.most_similar([vector], topn=11, indexer=annoy_index)\n",
    "\n",
    "# Neatly print the approximate_neighbors and their corresponding cosine similarity values\n",
    "print(\"Approximate Neighbors\")\n",
    "for neighbor in approximate_neighbors:\n",
    "    print(neighbor)"
   ]
  },
  {
   "cell_type": "code",
   "execution_count": 200,
   "metadata": {},
   "outputs": [
    {
     "name": "stdout",
     "output_type": "stream",
     "text": [
      "[u'shark', u'was', u'discovered', u'on', u'cape', u'cod', u'beach', u'thursday', u'making', u'it', u'the', u'third', u'this', u'week', u'that', u'may', u'have', u'fallen', u'victim', u'to', u'bitter', u'cold', u'temperatures', u'three', u'thresher', u'sharks', u'which', u'measure', u'about', u'feet', u'long', u'have', u'washed', u'up', u'on', u'beaches', u'in', u'orleans', u'and', u'wellfleet', u'since', u'christmas', u'what', u'may', u'have', u'happened', u'in', u'this', u'case', u'is', u'sudden', u'drop', u'in', u'temperature', u'associated', u'with', u'this', u'cold', u'snap', u'that', u'we', u're', u'all', u'experiencing', u'right', u'now', u'said', u'greg', u'skomal', u'of', u'the', u'massachusetts', u'division', u'of', u'marine', u'fisheries', u'and', u'that', u'probably', u'caught', u'these', u'sharks', u'off', u'guard', u'and', u'they', u're', u'trying', u'to', u'move', u'rapidly', u'south', u'what', u'they', u're', u'doing', u'is', u'bumping', u'into', u'cape', u'cod', u'and', u'getting', u'trapped', u'in', u'cape', u'cod', u'bay', u'and', u'that', u'causing', u'these', u'issues', u'the', u'three', u'sharks', u'died', u'from', u'being', u'stranded', u'skomal', u'emphasized', u'the', u'strandings', u'appear', u'to', u'be', u'natural', u'event', u'and', u'there', u'no', u'indication', u'of', u'what', u'he', u'called', u'foul', u'play', u'he', u'said', u'it', u'common', u'for', u'one', u'thresher', u'shark', u'to', u'strand', u'on', u'the', u'cape', u'in', u'season', u'but', u'three', u'in', u'one', u'week', u'is', u'unusual', u'we', u'want', u'the', u'folks', u'out', u'there', u'who', u'are', u'walking', u'the', u'beaches', u'who', u'dare', u'walk', u'the', u'beaches', u'in', u'this', u'weather', u'if', u'they', u'see', u'these', u'things', u'please', u'report', u'them', u'to', u'the', u'division', u'of', u'marine', u'fisheries', u'or', u'the', u'new', u'england', u'aquarium', u'he', u'added', u'the', u'atlantic', u'shark', u'conservancy', u'and', u'state', u'and', u'federal', u'officials', u'collected', u'organ', u'and', u'tissues', u'samples', u'to', u'help', u'research', u'the', u'sharks', u'and', u'their', u'deaths', u'the', u'conservancy', u'is', u'raising', u'money', u'for', u'equipment', u'to', u'help', u'them', u'respond', u'to', u'shark', u'strandings', u'the', u'geography', u'of', u'cape', u'cod', u'also', u'traps', u'hundreds', u'of', u'sea', u'turtles', u'each', u'winter', u'so', u'far', u'more', u'than', u'have', u'been', u'rescued', u'and', u'brought', u'to', u'the', u'new', u'england', u'aquarium', u'sea', u'turtle', u'hospital', u'craig', u'produces', u'sound', u'rich', u'features', u'and', u'breaking', u'news', u'coverage', u'for', u'wgbh', u'news']\n"
     ]
    }
   ],
   "source": [
    "for elem in tagged_docs:\n",
    "    if elem.tags[0] == 0:\n",
    "        print(elem.words)"
   ]
  },
  {
   "cell_type": "code",
   "execution_count": 187,
   "metadata": {},
   "outputs": [
    {
     "name": "stdout",
     "output_type": "stream",
     "text": [
      "(1611, 30)\n"
     ]
    }
   ],
   "source": [
    "import numpy as np\n",
    "\n",
    "X = model.docvecs[0].reshape(1, -1)\n",
    "for i in range(1, len(model.docvecs)):\n",
    "    X = np.concatenate((X, model.docvecs[i].reshape(1, -1)), axis=0)\n",
    "    \n",
    "print(X.shape)"
   ]
  },
  {
   "cell_type": "code",
   "execution_count": 195,
   "metadata": {},
   "outputs": [],
   "source": [
    "from sklearn.decomposition import PCA\n",
    "\n",
    "pca = PCA(n_components=3)\n",
    "principalComponents = pca.fit_transform(X)\n",
    "\n",
    "# Create a new dataset from principal components \n",
    "df = pd.DataFrame(data = principalComponents, \n",
    "                  columns = ['PC1', 'PC2', 'PC3'])"
   ]
  },
  {
   "cell_type": "code",
   "execution_count": 196,
   "metadata": {},
   "outputs": [
    {
     "data": {
      "image/png": "[encoded data removed]",
      "text/plain": [
       "<Figure size 432x288 with 1 Axes>"
      ]
     },
     "metadata": {
      "needs_background": "light"
     },
     "output_type": "display_data"
    }
   ],
   "source": [
    "import matplotlib.pyplot as plt\n",
    "\n",
    "plt.scatter(df['PC1'], df['PC2'])\n",
    "plt.show()"
   ]
  },
  {
   "cell_type": "code",
   "execution_count": 197,
   "metadata": {},
   "outputs": [
    {
     "data": {
      "text/plain": [
       "<mpl_toolkits.mplot3d.art3d.Path3DCollection at 0x1304a5750>"
      ]
     },
     "execution_count": 197,
     "metadata": {},
     "output_type": "execute_result"
    },
    {
     "data": {
      "image/png": "[encoded data removed]",
      "text/plain": [
       "<Figure size 432x288 with 1 Axes>"
      ]
     },
     "metadata": {
      "needs_background": "light"
     },
     "output_type": "display_data"
    }
   ],
   "source": [
    "from mpl_toolkits import mplot3d\n",
    "ax = plt.axes(projection='3d')\n",
    "z = df['PC3']\n",
    "y = df['PC2']\n",
    "x = df['PC1']\n",
    "ax.scatter3D(x, y, z)"
   ]
  }
 ],
 "metadata": {
  "kernelspec": {
   "display_name": "Python 3",
   "language": "python",
   "name": "python3"
  },
  "language_info": {
   "codemirror_mode": {
    "name": "ipython",
    "version": 2
   },
   "file_extension": ".py",
   "mimetype": "text/x-python",
   "name": "python",
   "nbconvert_exporter": "python",
   "pygments_lexer": "ipython2",
   "version": "2.7.17"
  }
 },
 "nbformat": 4,
 "nbformat_minor": 2
}
